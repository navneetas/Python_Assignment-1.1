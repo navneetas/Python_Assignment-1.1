{
 "cells": [
  {
   "cell_type": "code",
   "execution_count": 11,
   "metadata": {},
   "outputs": [
    {
     "name": "stdout",
     "output_type": "stream",
     "text": [
      "Your Score in Maths?85\n",
      "Your score in Eng?96\n",
      "Your score in Science?74\n",
      "Your total score is:  255\n",
      "You nailed it with an average of 85 %!\n"
     ]
    }
   ],
   "source": [
    "# Program to print the average of 3 subjects\n",
    "\n",
    "Maths = input (\"Your Score in Maths?\")\n",
    "M = int(Maths)\n",
    "English = input(\"Your score in Eng?\")\n",
    "E= int(English)\n",
    "Science = input (\"Your score in Science?\")\n",
    "S= int(Science)\n",
    "\n",
    "n = [M, E, S]\n",
    "m = len(n)   #This will calculate the number of subjects which will act as a denominator although in this case, it may not be required as it is fixed.\n",
    "sum = 0\n",
    "\n",
    "## To calculate the average of all the subject##\n",
    "for val in n:    \n",
    "    sum = sum+val\n",
    "    \n",
    "print(\"Your total score is: \",sum)\n",
    "avg = sum/m   \n",
    "avg = int(avg)\n",
    "\n",
    "## To Print the Result ##\n",
    "\n",
    "if avg<=65:\n",
    "    print(\"Try Harder, your average is: \", avg, \"%!\")\n",
    "    \n",
    "elif avg<=84.99:\n",
    "        print(\"Right now, you are at\",avg, \"%! Go Higher!\")\n",
    "        \n",
    "else:\n",
    "            print(\"You nailed it with an average of\", avg, \"%!\")\n",
    "\n",
    "\n",
    "\n",
    "    \n",
    "\n",
    "\n",
    "\n",
    " \n",
    "\n",
    "\n",
    "\n",
    "\n",
    "    \n",
    "    \n",
    "\n",
    "\n",
    "    \n"
   ]
  },
  {
   "cell_type": "code",
   "execution_count": null,
   "metadata": {},
   "outputs": [],
   "source": []
  }
 ],
 "metadata": {
  "kernelspec": {
   "display_name": "Python 3",
   "language": "python",
   "name": "python3"
  },
  "language_info": {
   "codemirror_mode": {
    "name": "ipython",
    "version": 3
   },
   "file_extension": ".py",
   "mimetype": "text/x-python",
   "name": "python",
   "nbconvert_exporter": "python",
   "pygments_lexer": "ipython3",
   "version": "3.6.4"
  }
 },
 "nbformat": 4,
 "nbformat_minor": 2
}
